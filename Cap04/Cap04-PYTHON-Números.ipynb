{
 "cells": [
  {
   "cell_type": "markdown",
   "id": "d44bd660",
   "metadata": {},
   "source": [
    "# DSA - Cap 04 - Números "
   ]
  },
  {
   "cell_type": "code",
   "execution_count": 1,
   "id": "98c07e3f",
   "metadata": {},
   "outputs": [
    {
     "name": "stdout",
     "output_type": "stream",
     "text": [
      "Versão do python <function python_version at 0x000001C94AC207C0>\n"
     ]
    }
   ],
   "source": [
    "# Versão da linguagem Python\n",
    "from platform import python_version\n",
    "print (\"Versão do python\", python_version)"
   ]
  },
  {
   "cell_type": "code",
   "execution_count": 2,
   "id": "47efe551",
   "metadata": {},
   "outputs": [
    {
     "data": {
      "text/plain": [
       "8"
      ]
     },
     "execution_count": 2,
     "metadata": {},
     "output_type": "execute_result"
    }
   ],
   "source": [
    "#Soma \n",
    "4 + 4 "
   ]
  },
  {
   "cell_type": "code",
   "execution_count": 3,
   "id": "0e108706",
   "metadata": {},
   "outputs": [
    {
     "data": {
      "text/plain": [
       "-2"
      ]
     },
     "execution_count": 3,
     "metadata": {},
     "output_type": "execute_result"
    }
   ],
   "source": [
    "#Subtração \n",
    "7 - 9 "
   ]
  },
  {
   "cell_type": "code",
   "execution_count": 4,
   "id": "e2c8da78",
   "metadata": {},
   "outputs": [
    {
     "data": {
      "text/plain": [
       "49"
      ]
     },
     "execution_count": 4,
     "metadata": {},
     "output_type": "execute_result"
    }
   ],
   "source": [
    "# Multiplicação \n",
    "7 * 7 "
   ]
  },
  {
   "cell_type": "code",
   "execution_count": 5,
   "id": "92df9f3a",
   "metadata": {},
   "outputs": [
    {
     "data": {
      "text/plain": [
       "116.93548387096774"
      ]
     },
     "execution_count": 5,
     "metadata": {},
     "output_type": "execute_result"
    }
   ],
   "source": [
    "#Divisão \n",
    "14500 / 124 "
   ]
  },
  {
   "cell_type": "code",
   "execution_count": 6,
   "id": "f815273b",
   "metadata": {},
   "outputs": [
    {
     "data": {
      "text/plain": [
       "16"
      ]
     },
     "execution_count": 6,
     "metadata": {},
     "output_type": "execute_result"
    }
   ],
   "source": [
    "# Potencia --- numero elevado \n",
    "4 ** 2 "
   ]
  },
  {
   "cell_type": "code",
   "execution_count": 9,
   "id": "110bed19",
   "metadata": {},
   "outputs": [
    {
     "data": {
      "text/plain": [
       "5"
      ]
     },
     "execution_count": 9,
     "metadata": {},
     "output_type": "execute_result"
    }
   ],
   "source": [
    "# Módulo --- resto da divisao \n",
    "5 % 6 "
   ]
  },
  {
   "cell_type": "code",
   "execution_count": 10,
   "id": "6d3c8462",
   "metadata": {},
   "outputs": [
    {
     "data": {
      "text/plain": [
       "int"
      ]
     },
     "execution_count": 10,
     "metadata": {},
     "output_type": "execute_result"
    }
   ],
   "source": [
    "# Função Type \n",
    "type (5)"
   ]
  },
  {
   "cell_type": "code",
   "execution_count": 11,
   "id": "2fba9dd7",
   "metadata": {},
   "outputs": [
    {
     "data": {
      "text/plain": [
       "float"
      ]
     },
     "execution_count": 11,
     "metadata": {},
     "output_type": "execute_result"
    }
   ],
   "source": [
    "type (5.0)"
   ]
  },
  {
   "cell_type": "code",
   "execution_count": 17,
   "id": "65e12170",
   "metadata": {},
   "outputs": [
    {
     "ename": "TypeError",
     "evalue": "'str' object is not callable",
     "output_type": "error",
     "traceback": [
      "\u001b[1;31m---------------------------------------------------------------------------\u001b[0m",
      "\u001b[1;31mTypeError\u001b[0m                                 Traceback (most recent call last)",
      "Cell \u001b[1;32mIn[17], line 2\u001b[0m\n\u001b[0;32m      1\u001b[0m a \u001b[38;5;241m=\u001b[39m \u001b[38;5;124m'\u001b[39m\u001b[38;5;124mEstou estudando python\u001b[39m\u001b[38;5;124m'\u001b[39m \n\u001b[1;32m----> 2\u001b[0m \u001b[38;5;28mtype\u001b[39m(a)\n",
      "\u001b[1;31mTypeError\u001b[0m: 'str' object is not callable"
     ]
    }
   ],
   "source": [
    "a = 'Estou estudando python' \n",
    "type(a)"
   ]
  },
  {
   "cell_type": "code",
   "execution_count": 18,
   "id": "2c5f9b6c",
   "metadata": {},
   "outputs": [
    {
     "ename": "TypeError",
     "evalue": "'str' object is not callable",
     "output_type": "error",
     "traceback": [
      "\u001b[1;31m---------------------------------------------------------------------------\u001b[0m",
      "\u001b[1;31mTypeError\u001b[0m                                 Traceback (most recent call last)",
      "Cell \u001b[1;32mIn[18], line 2\u001b[0m\n\u001b[0;32m      1\u001b[0m a \u001b[38;5;241m=\u001b[39m \u001b[38;5;124m\"\u001b[39m\u001b[38;5;124mstring\u001b[39m\u001b[38;5;124m\"\u001b[39m\n\u001b[1;32m----> 2\u001b[0m \u001b[38;5;28mtype\u001b[39m (a)\n",
      "\u001b[1;31mTypeError\u001b[0m: 'str' object is not callable"
     ]
    }
   ],
   "source": [
    "a = \"string\"\n",
    "type (a)"
   ]
  },
  {
   "cell_type": "code",
   "execution_count": 1,
   "id": "b69e4999",
   "metadata": {},
   "outputs": [],
   "source": [
    "# atribuindo 1 a variavel var_teste\n",
    "var_teste = 1 "
   ]
  },
  {
   "cell_type": "code",
   "execution_count": 2,
   "id": "4f508ffa",
   "metadata": {},
   "outputs": [
    {
     "data": {
      "text/plain": [
       "1"
      ]
     },
     "execution_count": 2,
     "metadata": {},
     "output_type": "execute_result"
    }
   ],
   "source": [
    "# imprimindo a var_teste \n",
    "var_teste"
   ]
  },
  {
   "cell_type": "code",
   "execution_count": 3,
   "id": "f00810cd",
   "metadata": {},
   "outputs": [
    {
     "name": "stdout",
     "output_type": "stream",
     "text": [
      "1\n"
     ]
    }
   ],
   "source": [
    "# imprimindo fr outra forma\n",
    "print (var_teste)"
   ]
  },
  {
   "cell_type": "code",
   "execution_count": 4,
   "id": "d248c0df",
   "metadata": {},
   "outputs": [
    {
     "ename": "NameError",
     "evalue": "name 'my_var' is not defined",
     "output_type": "error",
     "traceback": [
      "\u001b[1;31m---------------------------------------------------------------------------\u001b[0m",
      "\u001b[1;31mNameError\u001b[0m                                 Traceback (most recent call last)",
      "Cell \u001b[1;32mIn[4], line 2\u001b[0m\n\u001b[0;32m      1\u001b[0m \u001b[38;5;66;03m# sem declarar my_var\u001b[39;00m\n\u001b[1;32m----> 2\u001b[0m my_var\n",
      "\u001b[1;31mNameError\u001b[0m: name 'my_var' is not defined"
     ]
    }
   ],
   "source": [
    "# sem declarar my_var - da mensagem de erro porque nao foideclarada\n",
    "my_var"
   ]
  },
  {
   "cell_type": "code",
   "execution_count": 5,
   "id": "69295f88",
   "metadata": {},
   "outputs": [
    {
     "data": {
      "text/plain": [
       "int"
      ]
     },
     "execution_count": 5,
     "metadata": {},
     "output_type": "execute_result"
    }
   ],
   "source": [
    "type (var_teste)"
   ]
  },
  {
   "cell_type": "code",
   "execution_count": 6,
   "id": "9fa39300",
   "metadata": {},
   "outputs": [],
   "source": [
    "var_teste=1.5 "
   ]
  },
  {
   "cell_type": "code",
   "execution_count": 7,
   "id": "1519f19e",
   "metadata": {},
   "outputs": [
    {
     "data": {
      "text/plain": [
       "float"
      ]
     },
     "execution_count": 7,
     "metadata": {},
     "output_type": "execute_result"
    }
   ],
   "source": [
    "type (var_teste) --- quando vc atribui o valor flutuante o python transforma o tipo para float "
   ]
  },
  {
   "cell_type": "code",
   "execution_count": 8,
   "id": "2c3f3d3c",
   "metadata": {},
   "outputs": [],
   "source": [
    "pessoa1, pessoa2, pessoa3 = \"Bob\" , \"Maria\",  \"Ana\""
   ]
  },
  {
   "cell_type": "code",
   "execution_count": 9,
   "id": "6dbdb495",
   "metadata": {},
   "outputs": [
    {
     "data": {
      "text/plain": [
       "'Bob'"
      ]
     },
     "execution_count": 9,
     "metadata": {},
     "output_type": "execute_result"
    }
   ],
   "source": [
    "pessoa1"
   ]
  },
  {
   "cell_type": "code",
   "execution_count": 10,
   "id": "17ad088a",
   "metadata": {},
   "outputs": [
    {
     "data": {
      "text/plain": [
       "'Maria'"
      ]
     },
     "execution_count": 10,
     "metadata": {},
     "output_type": "execute_result"
    }
   ],
   "source": [
    "pessoa2"
   ]
  },
  {
   "cell_type": "code",
   "execution_count": 11,
   "id": "45259bdd",
   "metadata": {},
   "outputs": [
    {
     "data": {
      "text/plain": [
       "'Ana'"
      ]
     },
     "execution_count": 11,
     "metadata": {},
     "output_type": "execute_result"
    }
   ],
   "source": [
    "pessoa3"
   ]
  },
  {
   "cell_type": "code",
   "execution_count": 12,
   "id": "5be706b3",
   "metadata": {},
   "outputs": [],
   "source": [
    "fruta1 = fruta2 = fruta3 = \"Melancia\""
   ]
  },
  {
   "cell_type": "code",
   "execution_count": 13,
   "id": "3847507a",
   "metadata": {},
   "outputs": [
    {
     "data": {
      "text/plain": [
       "'Melancia'"
      ]
     },
     "execution_count": 13,
     "metadata": {},
     "output_type": "execute_result"
    }
   ],
   "source": [
    "fruta1"
   ]
  },
  {
   "cell_type": "code",
   "execution_count": 14,
   "id": "907896d7",
   "metadata": {},
   "outputs": [
    {
     "data": {
      "text/plain": [
       "'Melancia'"
      ]
     },
     "execution_count": 14,
     "metadata": {},
     "output_type": "execute_result"
    }
   ],
   "source": [
    "fruta2"
   ]
  },
  {
   "cell_type": "code",
   "execution_count": 15,
   "id": "00a2b31b",
   "metadata": {},
   "outputs": [
    {
     "data": {
      "text/plain": [
       "'Melancia'"
      ]
     },
     "execution_count": 15,
     "metadata": {},
     "output_type": "execute_result"
    }
   ],
   "source": [
    "fruta3"
   ]
  },
  {
   "cell_type": "code",
   "execution_count": 16,
   "id": "2e2cc36e",
   "metadata": {},
   "outputs": [
    {
     "ename": "NameError",
     "evalue": "name 'Fruta3' is not defined",
     "output_type": "error",
     "traceback": [
      "\u001b[1;31m---------------------------------------------------------------------------\u001b[0m",
      "\u001b[1;31mNameError\u001b[0m                                 Traceback (most recent call last)",
      "Cell \u001b[1;32mIn[16], line 1\u001b[0m\n\u001b[1;32m----> 1\u001b[0m Fruta3\n",
      "\u001b[1;31mNameError\u001b[0m: name 'Fruta3' is not defined"
     ]
    }
   ],
   "source": [
    "Fruta3\n"
   ]
  },
  {
   "cell_type": "markdown",
   "id": "cae4e0fa",
   "metadata": {},
   "source": [
    "# python é case sensitive "
   ]
  },
  {
   "cell_type": "code",
   "execution_count": null,
   "id": "c531589f",
   "metadata": {},
   "outputs": [],
   "source": [
    "# não pode começar nome de variável com números \n",
    "# e também nao pode usar nomes de palavras reservadas que o python ja utiliza "
   ]
  },
  {
   "cell_type": "code",
   "execution_count": 17,
   "id": "319fe8cc",
   "metadata": {},
   "outputs": [
    {
     "ename": "SyntaxError",
     "evalue": "invalid syntax (1545200237.py, line 1)",
     "output_type": "error",
     "traceback": [
      "\u001b[1;36m  Cell \u001b[1;32mIn[17], line 1\u001b[1;36m\u001b[0m\n\u001b[1;33m    break = 1\u001b[0m\n\u001b[1;37m          ^\u001b[0m\n\u001b[1;31mSyntaxError\u001b[0m\u001b[1;31m:\u001b[0m invalid syntax\n"
     ]
    }
   ],
   "source": [
    "break = 1 "
   ]
  },
  {
   "cell_type": "code",
   "execution_count": 18,
   "id": "9069a5a8",
   "metadata": {},
   "outputs": [
    {
     "ename": "SyntaxError",
     "evalue": "invalid decimal literal (3637274086.py, line 1)",
     "output_type": "error",
     "traceback": [
      "\u001b[1;36m  Cell \u001b[1;32mIn[18], line 1\u001b[1;36m\u001b[0m\n\u001b[1;33m    1x = 50\u001b[0m\n\u001b[1;37m    ^\u001b[0m\n\u001b[1;31mSyntaxError\u001b[0m\u001b[1;31m:\u001b[0m invalid decimal literal\n"
     ]
    }
   ],
   "source": [
    "1x = 50 "
   ]
  },
  {
   "cell_type": "code",
   "execution_count": 19,
   "id": "9a9ef7cb",
   "metadata": {},
   "outputs": [],
   "source": [
    "largura = 2 ; altura = 4 "
   ]
  },
  {
   "cell_type": "code",
   "execution_count": 20,
   "id": "e2a3fbb1",
   "metadata": {},
   "outputs": [
    {
     "data": {
      "text/plain": [
       "2"
      ]
     },
     "execution_count": 20,
     "metadata": {},
     "output_type": "execute_result"
    }
   ],
   "source": [
    "largura"
   ]
  },
  {
   "cell_type": "code",
   "execution_count": 21,
   "id": "cf946f75",
   "metadata": {},
   "outputs": [
    {
     "data": {
      "text/plain": [
       "4"
      ]
     },
     "execution_count": 21,
     "metadata": {},
     "output_type": "execute_result"
    }
   ],
   "source": [
    "altura"
   ]
  },
  {
   "cell_type": "code",
   "execution_count": 22,
   "id": "bde8659b",
   "metadata": {},
   "outputs": [],
   "source": [
    "perimetro = largura * altura "
   ]
  },
  {
   "cell_type": "code",
   "execution_count": 23,
   "id": "de5f9eb9",
   "metadata": {},
   "outputs": [
    {
     "name": "stdout",
     "output_type": "stream",
     "text": [
      "8\n"
     ]
    }
   ],
   "source": [
    "print (perimetro)"
   ]
  },
  {
   "cell_type": "code",
   "execution_count": 24,
   "id": "0c5711f5",
   "metadata": {},
   "outputs": [],
   "source": [
    "perimetro = 2 * (largura + 2) * altura"
   ]
  },
  {
   "cell_type": "code",
   "execution_count": 25,
   "id": "8e0164a6",
   "metadata": {},
   "outputs": [
    {
     "name": "stdout",
     "output_type": "stream",
     "text": [
      "32\n"
     ]
    }
   ],
   "source": [
    "print (perimetro)"
   ]
  },
  {
   "cell_type": "markdown",
   "id": "b205e713",
   "metadata": {},
   "source": [
    "# Funçoes Built-in de Strings \n",
    "\n",
    "#s.upper(converte tudo para maiusculo) precisa colocar metodo por ser parenteses \n",
    "atributo nao precisa de parenteses \n",
    "     \n",
    "#s.lower (converte tudo para minusculo) \n",
    "#s.split (divide uma string por espaço, palavra por palavra e da um espaço)\n",
    "#s.split(y)quando ele encontrar um Y vai dar um espaço\n",
    "#s.capitalize (converte a primeira letra da frase para maiusculo)\n",
    "#s.count ('a') conta quantas vezes tem a letra a na frase \n",
    "#s.isalnum (essa string é toda de numeros?) \n",
    "#s.islower (essa string é tudo minusculo?)\n",
    "#s.isspace (essa string tem só espaços?  )\n",
    "#s.endswith ('o') essa estring termina com a letra o ? "
   ]
  },
  {
   "cell_type": "code",
   "execution_count": 1,
   "id": "9b813838",
   "metadata": {},
   "outputs": [],
   "source": [
    "s='1000'"
   ]
  },
  {
   "cell_type": "code",
   "execution_count": 2,
   "id": "28620727",
   "metadata": {},
   "outputs": [
    {
     "data": {
      "text/plain": [
       "'1000'"
      ]
     },
     "execution_count": 2,
     "metadata": {},
     "output_type": "execute_result"
    }
   ],
   "source": [
    "s"
   ]
  },
  {
   "cell_type": "code",
   "execution_count": 3,
   "id": "cff48fcd",
   "metadata": {},
   "outputs": [
    {
     "data": {
      "text/plain": [
       "str"
      ]
     },
     "execution_count": 3,
     "metadata": {},
     "output_type": "execute_result"
    }
   ],
   "source": [
    "type (s)"
   ]
  },
  {
   "cell_type": "markdown",
   "id": "ae164ac2",
   "metadata": {},
   "source": [
    "# Comparando String\n",
    "== para igualdade \n",
    "print (\"Python\" == \"R\")"
   ]
  },
  {
   "cell_type": "code",
   "execution_count": 4,
   "id": "15b9c14a",
   "metadata": {},
   "outputs": [
    {
     "name": "stdout",
     "output_type": "stream",
     "text": [
      "False\n"
     ]
    }
   ],
   "source": [
    "print (\"Python\" == \"R\")"
   ]
  },
  {
   "cell_type": "code",
   "execution_count": 5,
   "id": "6f869e17",
   "metadata": {},
   "outputs": [
    {
     "name": "stdout",
     "output_type": "stream",
     "text": [
      "True\n"
     ]
    }
   ],
   "source": [
    "print (\"Python\" == \"Python\")"
   ]
  },
  {
   "cell_type": "markdown",
   "id": "5d72d33d",
   "metadata": {},
   "source": [
    "# Listas em PYTHON"
   ]
  },
  {
   "cell_type": "code",
   "execution_count": 6,
   "id": "53b6ec1b",
   "metadata": {},
   "outputs": [],
   "source": [
    "lista1 = [\"arroz, frango, tomate, leite\"]"
   ]
  },
  {
   "cell_type": "code",
   "execution_count": 30,
   "id": "4b421dc7",
   "metadata": {},
   "outputs": [],
   "source": [
    "ex1 = [1,2,3,4,5,6,7,8,9,10]"
   ]
  },
  {
   "cell_type": "code",
   "execution_count": 31,
   "id": "e176aa07",
   "metadata": {},
   "outputs": [
    {
     "data": {
      "text/plain": [
       "[1, 2, 3, 4, 5, 6, 7, 8, 9, 10]"
      ]
     },
     "execution_count": 31,
     "metadata": {},
     "output_type": "execute_result"
    }
   ],
   "source": [
    "ex1"
   ]
  },
  {
   "cell_type": "code",
   "execution_count": 32,
   "id": "7713d1cf",
   "metadata": {},
   "outputs": [],
   "source": [
    "ex2 = [\"edy\",\"felipe\", 45 , 8, 'amores']"
   ]
  },
  {
   "cell_type": "code",
   "execution_count": 33,
   "id": "c42a99e7",
   "metadata": {},
   "outputs": [
    {
     "data": {
      "text/plain": [
       "['edy', 'felipe', 45, 8, 'amores']"
      ]
     },
     "execution_count": 33,
     "metadata": {},
     "output_type": "execute_result"
    }
   ],
   "source": [
    "ex2"
   ]
  },
  {
   "cell_type": "code",
   "execution_count": 34,
   "id": "3d15b0f6",
   "metadata": {},
   "outputs": [],
   "source": [
    "ex3_l1 = [\"eu posso aprender data science\"]"
   ]
  },
  {
   "cell_type": "code",
   "execution_count": 35,
   "id": "6e9f6c41",
   "metadata": {},
   "outputs": [
    {
     "data": {
      "text/plain": [
       "['eu posso aprender data science']"
      ]
     },
     "execution_count": 35,
     "metadata": {},
     "output_type": "execute_result"
    }
   ],
   "source": [
    "ex3_l1"
   ]
  },
  {
   "cell_type": "code",
   "execution_count": 38,
   "id": "f05d0b33",
   "metadata": {},
   "outputs": [],
   "source": [
    "ex3_l3 = ex3_l1 + ex3_l2"
   ]
  },
  {
   "cell_type": "code",
   "execution_count": 39,
   "id": "a8eb2d4e",
   "metadata": {},
   "outputs": [
    {
     "data": {
      "text/plain": [
       "['eu posso aprender data science', 'e também aprender python']"
      ]
     },
     "execution_count": 39,
     "metadata": {},
     "output_type": "execute_result"
    }
   ],
   "source": [
    "ex3_l3"
   ]
  },
  {
   "cell_type": "code",
   "execution_count": 36,
   "id": "5c75a62d",
   "metadata": {},
   "outputs": [],
   "source": [
    "ex3_l2 = [\"e também aprender python\"]"
   ]
  },
  {
   "cell_type": "code",
   "execution_count": 37,
   "id": "7822359c",
   "metadata": {},
   "outputs": [
    {
     "data": {
      "text/plain": [
       "['e também aprender python']"
      ]
     },
     "execution_count": 37,
     "metadata": {},
     "output_type": "execute_result"
    }
   ],
   "source": [
    "ex3_l2"
   ]
  },
  {
   "cell_type": "code",
   "execution_count": 40,
   "id": "b63362b4",
   "metadata": {},
   "outputs": [],
   "source": [
    "tupl = ( 1, 2, 2, 3, 4, 4, 4, 5 )"
   ]
  },
  {
   "cell_type": "code",
   "execution_count": 41,
   "id": "717dcfa5",
   "metadata": {},
   "outputs": [
    {
     "data": {
      "text/plain": [
       "(1, 2, 2, 3, 4, 4, 4, 5)"
      ]
     },
     "execution_count": 41,
     "metadata": {},
     "output_type": "execute_result"
    }
   ],
   "source": [
    "tupl"
   ]
  },
  {
   "cell_type": "code",
   "execution_count": 42,
   "id": "ff6f5456",
   "metadata": {},
   "outputs": [
    {
     "ename": "TypeError",
     "evalue": "tuple.count() takes exactly one argument (0 given)",
     "output_type": "error",
     "traceback": [
      "\u001b[1;31m---------------------------------------------------------------------------\u001b[0m",
      "\u001b[1;31mTypeError\u001b[0m                                 Traceback (most recent call last)",
      "Cell \u001b[1;32mIn[42], line 1\u001b[0m\n\u001b[1;32m----> 1\u001b[0m tupl\u001b[38;5;241m.\u001b[39mcount ()\n",
      "\u001b[1;31mTypeError\u001b[0m: tuple.count() takes exactly one argument (0 given)"
     ]
    }
   ],
   "source": [
    "tupl.count ()"
   ]
  },
  {
   "cell_type": "markdown",
   "id": "5379caa4",
   "metadata": {},
   "source": [
    "## type (lista1)"
   ]
  },
  {
   "cell_type": "code",
   "execution_count": 8,
   "id": "2f7510f6",
   "metadata": {},
   "outputs": [
    {
     "name": "stdout",
     "output_type": "stream",
     "text": [
      "['arroz, frango, tomate, leite']\n"
     ]
    }
   ],
   "source": [
    "print (lista1)"
   ]
  },
  {
   "cell_type": "code",
   "execution_count": 9,
   "id": "e8f2aa50",
   "metadata": {},
   "outputs": [],
   "source": [
    "lista2 = [\"arroz\", \"frango\", \"tomate\", \"leite\"]"
   ]
  },
  {
   "cell_type": "code",
   "execution_count": 10,
   "id": "4732af45",
   "metadata": {},
   "outputs": [
    {
     "data": {
      "text/plain": [
       "list"
      ]
     },
     "execution_count": 10,
     "metadata": {},
     "output_type": "execute_result"
    }
   ],
   "source": [
    "type (lista2)"
   ]
  },
  {
   "cell_type": "code",
   "execution_count": 11,
   "id": "e9c746b0",
   "metadata": {},
   "outputs": [
    {
     "name": "stdout",
     "output_type": "stream",
     "text": [
      "['arroz', 'frango', 'tomate', 'leite']\n"
     ]
    }
   ],
   "source": [
    "print (lista2)"
   ]
  },
  {
   "cell_type": "code",
   "execution_count": 12,
   "id": "3be1d46d",
   "metadata": {},
   "outputs": [],
   "source": [
    "lista3 = [45, 100, \"tomate\", \"leite\"]"
   ]
  },
  {
   "cell_type": "code",
   "execution_count": 13,
   "id": "a2ed90c2",
   "metadata": {},
   "outputs": [
    {
     "name": "stdout",
     "output_type": "stream",
     "text": [
      "[45, 100, 'tomate', 'leite']\n"
     ]
    }
   ],
   "source": [
    "print (lista3)"
   ]
  },
  {
   "cell_type": "code",
   "execution_count": 14,
   "id": "b02a42a1",
   "metadata": {},
   "outputs": [
    {
     "data": {
      "text/plain": [
       "list"
      ]
     },
     "execution_count": 14,
     "metadata": {},
     "output_type": "execute_result"
    }
   ],
   "source": [
    "type (lista3)"
   ]
  },
  {
   "cell_type": "code",
   "execution_count": 15,
   "id": "10d89b46",
   "metadata": {},
   "outputs": [],
   "source": [
    "item1= lista3[0]\n",
    "item2= lista3[1]\n",
    "item3= lista3[2]\n",
    "item4= lista3[3]"
   ]
  },
  {
   "cell_type": "code",
   "execution_count": 16,
   "id": "c670f203",
   "metadata": {},
   "outputs": [
    {
     "name": "stdout",
     "output_type": "stream",
     "text": [
      "45 100 tomate\n"
     ]
    }
   ],
   "source": [
    "print (item1,item2,item3)"
   ]
  },
  {
   "cell_type": "code",
   "execution_count": 17,
   "id": "5a795b7c",
   "metadata": {},
   "outputs": [
    {
     "name": "stdout",
     "output_type": "stream",
     "text": [
      "['arroz', 'frango', 'tomate', 'leite']\n"
     ]
    }
   ],
   "source": [
    "#atualizando um item da lista \n",
    "print (lista2)"
   ]
  },
  {
   "cell_type": "code",
   "execution_count": 18,
   "id": "318dfdc0",
   "metadata": {},
   "outputs": [],
   "source": [
    "lista2[1]=\"chocolate\""
   ]
  },
  {
   "cell_type": "code",
   "execution_count": 19,
   "id": "412d318f",
   "metadata": {},
   "outputs": [
    {
     "name": "stdout",
     "output_type": "stream",
     "text": [
      "['arroz', 'chocolate', 'tomate', 'leite']\n"
     ]
    }
   ],
   "source": [
    "print (lista2)"
   ]
  },
  {
   "cell_type": "code",
   "execution_count": 20,
   "id": "ecf7ecb4",
   "metadata": {},
   "outputs": [
    {
     "data": {
      "text/plain": [
       "['arroz', 'chocolate', 'tomate', 'leite']"
      ]
     },
     "execution_count": 20,
     "metadata": {},
     "output_type": "execute_result"
    }
   ],
   "source": [
    "lista2"
   ]
  },
  {
   "cell_type": "code",
   "execution_count": 22,
   "id": "0c74bfa2",
   "metadata": {},
   "outputs": [
    {
     "ename": "IndexError",
     "evalue": "list assignment index out of range",
     "output_type": "error",
     "traceback": [
      "\u001b[1;31m---------------------------------------------------------------------------\u001b[0m",
      "\u001b[1;31mIndexError\u001b[0m                                Traceback (most recent call last)",
      "Cell \u001b[1;32mIn[22], line 1\u001b[0m\n\u001b[1;32m----> 1\u001b[0m \u001b[38;5;28;01mdel\u001b[39;00m lista2[\u001b[38;5;241m4\u001b[39m]\n",
      "\u001b[1;31mIndexError\u001b[0m: list assignment index out of range"
     ]
    }
   ],
   "source": [
    "del lista2[4]"
   ]
  },
  {
   "cell_type": "code",
   "execution_count": 23,
   "id": "635f543d",
   "metadata": {},
   "outputs": [
    {
     "ename": "IndexError",
     "evalue": "list assignment index out of range",
     "output_type": "error",
     "traceback": [
      "\u001b[1;31m---------------------------------------------------------------------------\u001b[0m",
      "\u001b[1;31mIndexError\u001b[0m                                Traceback (most recent call last)",
      "Cell \u001b[1;32mIn[23], line 1\u001b[0m\n\u001b[1;32m----> 1\u001b[0m \u001b[38;5;28;01mdel\u001b[39;00m lista2[\u001b[38;5;241m4\u001b[39m]\n",
      "\u001b[1;31mIndexError\u001b[0m: list assignment index out of range"
     ]
    }
   ],
   "source": [
    "del lista2[4]"
   ]
  },
  {
   "cell_type": "code",
   "execution_count": 24,
   "id": "2d946a52",
   "metadata": {},
   "outputs": [
    {
     "data": {
      "text/plain": [
       "['arroz', 'chocolate', 'tomate', 'leite']"
      ]
     },
     "execution_count": 24,
     "metadata": {},
     "output_type": "execute_result"
    }
   ],
   "source": [
    "lista2"
   ]
  },
  {
   "cell_type": "code",
   "execution_count": 25,
   "id": "dcc6d014",
   "metadata": {},
   "outputs": [],
   "source": [
    "del lista2[3]"
   ]
  },
  {
   "cell_type": "code",
   "execution_count": 26,
   "id": "5efceb43",
   "metadata": {},
   "outputs": [
    {
     "data": {
      "text/plain": [
       "['arroz', 'chocolate', 'tomate']"
      ]
     },
     "execution_count": 26,
     "metadata": {},
     "output_type": "execute_result"
    }
   ],
   "source": [
    "lista2"
   ]
  },
  {
   "cell_type": "code",
   "execution_count": 27,
   "id": "e3193bd7",
   "metadata": {},
   "outputs": [],
   "source": [
    "listas = [ [1,2,3,4] , [10,15,14] , [2,3,4,5]]"
   ]
  },
  {
   "cell_type": "code",
   "execution_count": 28,
   "id": "4f07ea9b",
   "metadata": {},
   "outputs": [
    {
     "data": {
      "text/plain": [
       "[[1, 2, 3, 4], [10, 15, 14], [2, 3, 4, 5]]"
      ]
     },
     "execution_count": 28,
     "metadata": {},
     "output_type": "execute_result"
    }
   ],
   "source": [
    "listas"
   ]
  },
  {
   "cell_type": "markdown",
   "id": "72f99081",
   "metadata": {},
   "source": [
    "## concatenando listas com sinal de mais +\n",
    "### operador in - o numero 10 está dentro da lista ?  in pergunta se esta dentro "
   ]
  },
  {
   "cell_type": "markdown",
   "id": "6113f59d",
   "metadata": {},
   "source": [
    "# built in len === qual é o tamanho da lista\n",
    "# built in max --- qual valor maximo da lista \n",
    "# built in min --- qual valor minimo da lista "
   ]
  },
  {
   "cell_type": "code",
   "execution_count": 29,
   "id": "3a834660",
   "metadata": {},
   "outputs": [],
   "source": [
    "lista_num = [10,20,400,3.5]"
   ]
  },
  {
   "cell_type": "code",
   "execution_count": 30,
   "id": "20eca915",
   "metadata": {},
   "outputs": [
    {
     "data": {
      "text/plain": [
       "4"
      ]
     },
     "execution_count": 30,
     "metadata": {},
     "output_type": "execute_result"
    }
   ],
   "source": [
    "len (lista_num)"
   ]
  },
  {
   "cell_type": "code",
   "execution_count": 31,
   "id": "490e397e",
   "metadata": {},
   "outputs": [
    {
     "data": {
      "text/plain": [
       "400"
      ]
     },
     "execution_count": 31,
     "metadata": {},
     "output_type": "execute_result"
    }
   ],
   "source": [
    "max  (lista_num)"
   ]
  },
  {
   "cell_type": "code",
   "execution_count": 32,
   "id": "24b89e31",
   "metadata": {},
   "outputs": [
    {
     "data": {
      "text/plain": [
       "3.5"
      ]
     },
     "execution_count": 32,
     "metadata": {},
     "output_type": "execute_result"
    }
   ],
   "source": [
    "min  (lista_num)"
   ]
  },
  {
   "cell_type": "code",
   "execution_count": 33,
   "id": "fe5bfbdb",
   "metadata": {},
   "outputs": [],
   "source": [
    "lista_formacoes = [\"analista de dados\", \"cientista de dados\"]"
   ]
  },
  {
   "cell_type": "code",
   "execution_count": 34,
   "id": "6fb704df",
   "metadata": {},
   "outputs": [
    {
     "data": {
      "text/plain": [
       "['analista de dados', 'cientista de dados']"
      ]
     },
     "execution_count": 34,
     "metadata": {},
     "output_type": "execute_result"
    }
   ],
   "source": [
    "lista_formacoes"
   ]
  },
  {
   "cell_type": "code",
   "execution_count": 35,
   "id": "162d17d7",
   "metadata": {},
   "outputs": [],
   "source": [
    "lista_formacoes.append (\"engenheiro IA\")"
   ]
  },
  {
   "cell_type": "code",
   "execution_count": 36,
   "id": "5b30fb59",
   "metadata": {},
   "outputs": [
    {
     "data": {
      "text/plain": [
       "['analista de dados', 'cientista de dados', 'engenheiro IA']"
      ]
     },
     "execution_count": 36,
     "metadata": {},
     "output_type": "execute_result"
    }
   ],
   "source": [
    "lista_formacoes"
   ]
  },
  {
   "cell_type": "code",
   "execution_count": 37,
   "id": "a1aa8827",
   "metadata": {},
   "outputs": [],
   "source": [
    "lista_formacoes.append (\"engenheiro IA\")"
   ]
  },
  {
   "cell_type": "code",
   "execution_count": 38,
   "id": "56928ed7",
   "metadata": {},
   "outputs": [
    {
     "data": {
      "text/plain": [
       "['analista de dados', 'cientista de dados', 'engenheiro IA', 'engenheiro IA']"
      ]
     },
     "execution_count": 38,
     "metadata": {},
     "output_type": "execute_result"
    }
   ],
   "source": [
    "lista_formacoes"
   ]
  },
  {
   "cell_type": "code",
   "execution_count": 39,
   "id": "085ffd9e",
   "metadata": {},
   "outputs": [
    {
     "ename": "TypeError",
     "evalue": "list.count() takes exactly one argument (0 given)",
     "output_type": "error",
     "traceback": [
      "\u001b[1;31m---------------------------------------------------------------------------\u001b[0m",
      "\u001b[1;31mTypeError\u001b[0m                                 Traceback (most recent call last)",
      "Cell \u001b[1;32mIn[39], line 1\u001b[0m\n\u001b[1;32m----> 1\u001b[0m lista_formacoes\u001b[38;5;241m.\u001b[39mcount ()\n",
      "\u001b[1;31mTypeError\u001b[0m: list.count() takes exactly one argument (0 given)"
     ]
    }
   ],
   "source": [
    "lista_formacoes.count ()"
   ]
  },
  {
   "cell_type": "code",
   "execution_count": 40,
   "id": "969b52c6",
   "metadata": {},
   "outputs": [
    {
     "ename": "SyntaxError",
     "evalue": "invalid syntax. Perhaps you forgot a comma? (1921266690.py, line 1)",
     "output_type": "error",
     "traceback": [
      "\u001b[1;36m  Cell \u001b[1;32mIn[40], line 1\u001b[1;36m\u001b[0m\n\u001b[1;33m    lista_formacoes.count (engenheiro IA)\u001b[0m\n\u001b[1;37m                           ^\u001b[0m\n\u001b[1;31mSyntaxError\u001b[0m\u001b[1;31m:\u001b[0m invalid syntax. Perhaps you forgot a comma?\n"
     ]
    }
   ],
   "source": [
    "lista_formacoes.count (engenheiro IA)"
   ]
  },
  {
   "cell_type": "code",
   "execution_count": 41,
   "id": "aa69ac29",
   "metadata": {},
   "outputs": [
    {
     "data": {
      "text/plain": [
       "2"
      ]
     },
     "execution_count": 41,
     "metadata": {},
     "output_type": "execute_result"
    }
   ],
   "source": [
    "lista_formacoes.count (\"engenheiro IA\")"
   ]
  },
  {
   "cell_type": "code",
   "execution_count": 42,
   "id": "db1fa96d",
   "metadata": {},
   "outputs": [],
   "source": [
    "a= []"
   ]
  },
  {
   "cell_type": "markdown",
   "id": "8bebc9d2",
   "metadata": {},
   "source": [
    "# lista [separado por chaves]\n",
    "# dicionario {outra estrutura de dados, dentro dele, pares separado por , exemplo\"Ana\":26 , } dict "
   ]
  },
  {
   "cell_type": "code",
   "execution_count": 1,
   "id": "1697e9f5",
   "metadata": {},
   "outputs": [],
   "source": [
    "dict = {}\n"
   ]
  },
  {
   "cell_type": "code",
   "execution_count": 43,
   "id": "493b0cbf",
   "metadata": {},
   "outputs": [],
   "source": [
    "dict = {}"
   ]
  },
  {
   "cell_type": "code",
   "execution_count": 44,
   "id": "7be7e01d",
   "metadata": {},
   "outputs": [
    {
     "data": {
      "text/plain": [
       "{}"
      ]
     },
     "execution_count": 44,
     "metadata": {},
     "output_type": "execute_result"
    }
   ],
   "source": [
    "dict"
   ]
  },
  {
   "cell_type": "code",
   "execution_count": 2,
   "id": "2c886766",
   "metadata": {},
   "outputs": [],
   "source": [
    "dict [\"Edy\"] = 45 "
   ]
  },
  {
   "cell_type": "code",
   "execution_count": 3,
   "id": "44606ccc",
   "metadata": {},
   "outputs": [
    {
     "data": {
      "text/plain": [
       "{'Edy': 45}"
      ]
     },
     "execution_count": 3,
     "metadata": {},
     "output_type": "execute_result"
    }
   ],
   "source": [
    "dict "
   ]
  },
  {
   "cell_type": "code",
   "execution_count": 4,
   "id": "338b798c",
   "metadata": {},
   "outputs": [],
   "source": [
    "dict2 = {\"chave1\":1230, \"chave2\": [22,453,73,5.4], \"chave3\":['picanha', 'fraldinha', 'alcatra']}"
   ]
  },
  {
   "cell_type": "code",
   "execution_count": 5,
   "id": "c4abff11",
   "metadata": {},
   "outputs": [
    {
     "data": {
      "text/plain": [
       "{'chave1': 1230,\n",
       " 'chave2': [22, 453, 73, 5.4],\n",
       " 'chave3': ['picanha', 'fraldinha', 'alcatra']}"
      ]
     },
     "execution_count": 5,
     "metadata": {},
     "output_type": "execute_result"
    }
   ],
   "source": [
    "dict2 "
   ]
  },
  {
   "cell_type": "code",
   "execution_count": 6,
   "id": "a06d70b4",
   "metadata": {},
   "outputs": [
    {
     "data": {
      "text/plain": [
       "['picanha', 'fraldinha', 'alcatra']"
      ]
     },
     "execution_count": 6,
     "metadata": {},
     "output_type": "execute_result"
    }
   ],
   "source": [
    "dict2 ['chave3']"
   ]
  },
  {
   "cell_type": "code",
   "execution_count": 7,
   "id": "bb616efb",
   "metadata": {},
   "outputs": [
    {
     "data": {
      "text/plain": [
       "<function str.upper()>"
      ]
     },
     "execution_count": 7,
     "metadata": {},
     "output_type": "execute_result"
    }
   ],
   "source": [
    "dict2 ['chave3'] [0].upper"
   ]
  },
  {
   "cell_type": "code",
   "execution_count": 8,
   "id": "c113a2ff",
   "metadata": {},
   "outputs": [
    {
     "data": {
      "text/plain": [
       "'PICANHA'"
      ]
     },
     "execution_count": 8,
     "metadata": {},
     "output_type": "execute_result"
    }
   ],
   "source": [
    "dict2 ['chave3'] [0].upper()"
   ]
  },
  {
   "cell_type": "code",
   "execution_count": 9,
   "id": "6314b717",
   "metadata": {},
   "outputs": [],
   "source": [
    "var1 = dict2['chave2'][1]-3"
   ]
  },
  {
   "cell_type": "code",
   "execution_count": 11,
   "id": "34136e3b",
   "metadata": {},
   "outputs": [
    {
     "data": {
      "text/plain": [
       "450"
      ]
     },
     "execution_count": 11,
     "metadata": {},
     "output_type": "execute_result"
    }
   ],
   "source": [
    "var1"
   ]
  },
  {
   "cell_type": "code",
   "execution_count": 12,
   "id": "5ea6914d",
   "metadata": {},
   "outputs": [],
   "source": [
    "dict2['chave2'][1]-=5"
   ]
  },
  {
   "cell_type": "code",
   "execution_count": 13,
   "id": "c8ef2e78",
   "metadata": {},
   "outputs": [
    {
     "data": {
      "text/plain": [
       "{'chave1': 1230,\n",
       " 'chave2': [22, 448, 73, 5.4],\n",
       " 'chave3': ['picanha', 'fraldinha', 'alcatra']}"
      ]
     },
     "execution_count": 13,
     "metadata": {},
     "output_type": "execute_result"
    }
   ],
   "source": [
    "dict2"
   ]
  },
  {
   "cell_type": "code",
   "execution_count": 15,
   "id": "7eaca979",
   "metadata": {},
   "outputs": [
    {
     "ename": "SyntaxError",
     "evalue": "invalid syntax. Perhaps you forgot a comma? (2119894078.py, line 1)",
     "output_type": "error",
     "traceback": [
      "\u001b[1;36m  Cell \u001b[1;32mIn[15], line 1\u001b[1;36m\u001b[0m\n\u001b[1;33m    dict_aninhado = {\"chave1\":1230 { \"chave2\": [22,453,73,5.4],}\"chave3\":['picanha', 'fraldinha', 'alcatra']}\u001b[0m\n\u001b[1;37m                              ^\u001b[0m\n\u001b[1;31mSyntaxError\u001b[0m\u001b[1;31m:\u001b[0m invalid syntax. Perhaps you forgot a comma?\n"
     ]
    }
   ],
   "source": [
    "dict_aninhado = {\"chave1\":1230 { \"chave2\": [22,453,73,5.4],}\"chave3\":['picanha', 'fraldinha', 'alcatra']}"
   ]
  },
  {
   "cell_type": "markdown",
   "id": "3e1f950c",
   "metadata": {},
   "source": [
    "# lista - mais usada [] pode ser modificado \n",
    "## dicionario - menos usada {} pode ser modificado\n",
    "### tuplas - tem mais limitações () parenteses - usada para que não tenha alteração, não sera modificado, tupla nao pode ser deletado também. não usa append, nem del  \n"
   ]
  },
  {
   "cell_type": "code",
   "execution_count": 17,
   "id": "f03546c6",
   "metadata": {},
   "outputs": [],
   "source": [
    "tupla1 = (\"geografia\",23 , \"elefante\", 9.8, \"python\")"
   ]
  },
  {
   "cell_type": "code",
   "execution_count": 18,
   "id": "c91a8a7b",
   "metadata": {},
   "outputs": [
    {
     "data": {
      "text/plain": [
       "('geografia', 23, 'elefante', 9.8, 'python')"
      ]
     },
     "execution_count": 18,
     "metadata": {},
     "output_type": "execute_result"
    }
   ],
   "source": [
    "tupla1"
   ]
  },
  {
   "cell_type": "code",
   "execution_count": 19,
   "id": "f7b8cbe5",
   "metadata": {},
   "outputs": [
    {
     "data": {
      "text/plain": [
       "'geografia'"
      ]
     },
     "execution_count": 19,
     "metadata": {},
     "output_type": "execute_result"
    }
   ],
   "source": [
    "tupla1 [0]"
   ]
  },
  {
   "cell_type": "code",
   "execution_count": 21,
   "id": "33bbf9bf",
   "metadata": {},
   "outputs": [
    {
     "ename": "SyntaxError",
     "evalue": "invalid syntax (3263166947.py, line 1)",
     "output_type": "error",
     "traceback": [
      "\u001b[1;36m  Cell \u001b[1;32mIn[21], line 1\u001b[1;36m\u001b[0m\n\u001b[1;33m    len tupla1\u001b[0m\n\u001b[1;37m        ^\u001b[0m\n\u001b[1;31mSyntaxError\u001b[0m\u001b[1;31m:\u001b[0m invalid syntax\n"
     ]
    }
   ],
   "source": [
    "len tupla1"
   ]
  },
  {
   "cell_type": "code",
   "execution_count": 22,
   "id": "55ae1470",
   "metadata": {},
   "outputs": [
    {
     "data": {
      "text/plain": [
       "5"
      ]
     },
     "execution_count": 22,
     "metadata": {},
     "output_type": "execute_result"
    }
   ],
   "source": [
    "len (tupla1)"
   ]
  },
  {
   "cell_type": "code",
   "execution_count": 25,
   "id": "b0ae14be",
   "metadata": {},
   "outputs": [],
   "source": [
    "lista2Tupla = list(tupla1)"
   ]
  },
  {
   "cell_type": "code",
   "execution_count": 24,
   "id": "5fbfe6d7",
   "metadata": {},
   "outputs": [
    {
     "data": {
      "text/plain": [
       "tuple"
      ]
     },
     "execution_count": 24,
     "metadata": {},
     "output_type": "execute_result"
    }
   ],
   "source": [
    "type (tupla1)"
   ]
  },
  {
   "cell_type": "code",
   "execution_count": 26,
   "id": "a199b7ca",
   "metadata": {},
   "outputs": [],
   "source": [
    "lista2Tupla.append (\"maisum\")"
   ]
  },
  {
   "cell_type": "code",
   "execution_count": 27,
   "id": "279454cf",
   "metadata": {},
   "outputs": [
    {
     "data": {
      "text/plain": [
       "['geografia', 23, 'elefante', 9.8, 'python', 'maisum']"
      ]
     },
     "execution_count": 27,
     "metadata": {},
     "output_type": "execute_result"
    }
   ],
   "source": [
    "lista2Tupla"
   ]
  },
  {
   "cell_type": "code",
   "execution_count": 28,
   "id": "6f16a84a",
   "metadata": {},
   "outputs": [],
   "source": [
    "TuplaNew = tuple (lista2Tupla)"
   ]
  },
  {
   "cell_type": "code",
   "execution_count": 29,
   "id": "914a014d",
   "metadata": {},
   "outputs": [
    {
     "data": {
      "text/plain": [
       "('geografia', 23, 'elefante', 9.8, 'python', 'maisum')"
      ]
     },
     "execution_count": 29,
     "metadata": {},
     "output_type": "execute_result"
    }
   ],
   "source": [
    "TuplaNew"
   ]
  },
  {
   "cell_type": "code",
   "execution_count": null,
   "id": "bf9a92b0",
   "metadata": {},
   "outputs": [],
   "source": []
  }
 ],
 "metadata": {
  "kernelspec": {
   "display_name": "Python 3 (ipykernel)",
   "language": "python",
   "name": "python3"
  },
  "language_info": {
   "codemirror_mode": {
    "name": "ipython",
    "version": 3
   },
   "file_extension": ".py",
   "mimetype": "text/x-python",
   "name": "python",
   "nbconvert_exporter": "python",
   "pygments_lexer": "ipython3",
   "version": "3.11.5"
  }
 },
 "nbformat": 4,
 "nbformat_minor": 5
}
