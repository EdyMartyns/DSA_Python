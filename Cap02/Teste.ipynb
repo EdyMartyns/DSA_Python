{
 "cells": [
  {
   "cell_type": "code",
   "execution_count": 1,
   "id": "a097f2d4",
   "metadata": {},
   "outputs": [
    {
     "data": {
      "text/plain": [
       "4"
      ]
     },
     "execution_count": 1,
     "metadata": {},
     "output_type": "execute_result"
    }
   ],
   "source": [
    "2+2\n"
   ]
  },
  {
   "cell_type": "code",
   "execution_count": 2,
   "id": "3b34b4cd",
   "metadata": {},
   "outputs": [
    {
     "data": {
      "text/plain": [
       "10"
      ]
     },
     "execution_count": 2,
     "metadata": {},
     "output_type": "execute_result"
    }
   ],
   "source": [
    "5+5"
   ]
  },
  {
   "cell_type": "code",
   "execution_count": 3,
   "id": "a42b4fd6",
   "metadata": {},
   "outputs": [
    {
     "name": "stdout",
     "output_type": "stream",
     "text": [
      "Olá Mundo!\n"
     ]
    }
   ],
   "source": [
    "print (\"Olá Mundo!\")"
   ]
  },
  {
   "cell_type": "markdown",
   "id": "2cdf5581",
   "metadata": {},
   "source": [
    "Gere codigo python lista de 1 a 100  e imprima os numeros pares que forem divisiveis por 4 \n",
    "variaveis python - numeros \n",
    "range 1 a 101 , entre se colocar 100 ia aparecer até 96 "
   ]
  },
  {
   "cell_type": "code",
   "execution_count": 3,
   "id": "000b918f",
   "metadata": {},
   "outputs": [],
   "source": [
    "#gerando uma lista de numeros de 1 a 101 \n",
    "numeros = list (range(1,101))\n"
   ]
  },
  {
   "cell_type": "code",
   "execution_count": 4,
   "id": "55b76b58",
   "metadata": {},
   "outputs": [
    {
     "data": {
      "text/plain": [
       "list"
      ]
     },
     "execution_count": 4,
     "metadata": {},
     "output_type": "execute_result"
    }
   ],
   "source": [
    "type (numeros)"
   ]
  },
  {
   "cell_type": "code",
   "execution_count": 15,
   "id": "4cf8ff99",
   "metadata": {},
   "outputs": [
    {
     "name": "stdout",
     "output_type": "stream",
     "text": [
      "4\n",
      "8\n",
      "12\n",
      "16\n",
      "20\n",
      "24\n",
      "28\n",
      "32\n",
      "36\n",
      "40\n",
      "44\n",
      "48\n",
      "52\n",
      "56\n",
      "60\n",
      "64\n",
      "68\n",
      "72\n",
      "76\n",
      "80\n",
      "84\n",
      "88\n",
      "92\n",
      "96\n",
      "100\n"
     ]
    }
   ],
   "source": [
    "#imprimindos os numeros pares divisiveis por 4 \n",
    "\n",
    "for numero in numeros:\n",
    "    #se o numero dividir por 2 resto igual a 0 e dividido por 4 resto igual a 0 \n",
    "    if numero % 2 == 0 and numero % 4 == 0 :\n",
    "        print (numero)"
   ]
  },
  {
   "cell_type": "markdown",
   "id": "edcfd89c",
   "metadata": {},
   "source": [
    "Gere codigo python lista de 1 a 100  e imprima os numeros pares que forem divisiveis por 4  usando o \n",
    "# list comprehension \n",
    "# [quando utiliza chaves é list comprehension]\n",
    "\n",
    "# vem nesse formato - [4, 8, 12, 16, 20, 24, 28, 32, 36, 40, 44, 48, 52, 56, 60, 64, 68, 72, 76, 80, 84, 88, 92, 96, 100]"
   ]
  },
  {
   "cell_type": "code",
   "execution_count": 19,
   "id": "ec03c4cb",
   "metadata": {},
   "outputs": [
    {
     "name": "stdout",
     "output_type": "stream",
     "text": [
      "[4, 8, 12, 16, 20, 24, 28, 32, 36, 40, 44, 48, 52, 56, 60, 64, 68, 72, 76, 80, 84, 88, 92, 96, 100]\n"
     ]
    }
   ],
   "source": [
    "# List comprehension para gerar uma lista de números de 1 a 100\n",
    "numeros = list(range(1, 101))\n",
    "\n",
    "# List comprehension para selecionar os números pares que são divisíveis por 4\n",
    "numeros_divisiveis_por_4 = [numero for numero in numeros if numero % 2 == 0 and numero % 4 == 0]\n",
    "\n",
    "# Imprimindo os números selecionados\n",
    "print(numeros_divisiveis_por_4)\n"
   ]
  },
  {
   "cell_type": "markdown",
   "id": "0e6de741",
   "metadata": {},
   "source": [
    "# Fim"
   ]
  },
  {
   "cell_type": "code",
   "execution_count": 21,
   "id": "08e331fb",
   "metadata": {},
   "outputs": [
    {
     "data": {
      "text/plain": [
       "list"
      ]
     },
     "execution_count": 21,
     "metadata": {},
     "output_type": "execute_result"
    }
   ],
   "source": [
    "type (numeros_divisiveis_por_4)"
   ]
  },
  {
   "cell_type": "markdown",
   "id": "f10c5e3d",
   "metadata": {},
   "source": [
    "# pseudocodigo para calcular uma piramide"
   ]
  },
  {
   "cell_type": "markdown",
   "id": "94d9e915",
   "metadata": {},
   "source": [
    "# Função calcularPirâmide(níveis)\n",
    "   \n",
    "   Para cada nível de 1 até níveis faça\n",
    "        // Calcula o número de espaços em branco antes e depois dos asteriscos\n",
    "        espaçosAntes = níveis - nível\n",
    "        espaçosDepois = níveis - 1\n",
    "        \n",
    "        // Imprime espaços em branco antes dos asteriscos\n",
    "        Para cada espaço de 1 até espaçosAntes faça\n",
    "            Imprimir \" \"\n",
    "        \n",
    "        // Imprime os asteriscos\n",
    "        Para cada asterisco de 1 até (2 * nível - 1) faça\n",
    "            Imprimir \"*\"\n",
    "        \n",
    "        // Imprime espaços em branco depois dos asteriscos\n",
    "        Para cada espaço de 1 até espaçosDepois faça\n",
    "            Imprimir \" \"\n",
    "        \n",
    "        // Quebra de linha para iniciar o próximo nível\n",
    "        Quebrar linha\n",
    "        \n",
    "    Fim Para\n",
    "Fim Função\n",
    "\n",
    "// Exemplo de uso\n",
    "calcularPirâmide(5) // Calcula e imprime uma pirâmide com 5 níveis\n"
   ]
  },
  {
   "cell_type": "code",
   "execution_count": null,
   "id": "1dfd6cad",
   "metadata": {},
   "outputs": [],
   "source": []
  }
 ],
 "metadata": {
  "kernelspec": {
   "display_name": "Python 3 (ipykernel)",
   "language": "python",
   "name": "python3"
  },
  "language_info": {
   "codemirror_mode": {
    "name": "ipython",
    "version": 3
   },
   "file_extension": ".py",
   "mimetype": "text/x-python",
   "name": "python",
   "nbconvert_exporter": "python",
   "pygments_lexer": "ipython3",
   "version": "3.11.5"
  }
 },
 "nbformat": 4,
 "nbformat_minor": 5
}
