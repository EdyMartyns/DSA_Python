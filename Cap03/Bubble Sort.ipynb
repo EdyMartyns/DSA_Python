{
 "cells": [
  {
   "cell_type": "markdown",
   "id": "17f8f890",
   "metadata": {},
   "source": [
    "# Bubble Sort \n",
    "é um algoritimo de ordenação simples, funciona comparando cada elemento com o próximo e trocando de lugar se estiver em ordem incorreta. \n",
    "\n",
    "Inicie\n",
    "\n",
    "    Para cada elemento i no array de tamanho n \n",
    "       Para cada elemento j no array de tamanho n -1  \n",
    "            Se elemento i for maior que elemento j \n",
    "            Troque os elementos i e j \n",
    "    Exiba o array ordenado \n",
    "Fim \n"
   ]
  },
  {
   "cell_type": "code",
   "execution_count": 1,
   "id": "c78c3890",
   "metadata": {},
   "outputs": [],
   "source": [
    "#Verifica os numeros de 2 a dois até ordenar todos eles.\n",
    "\n",
    "#considere esta lista como exemplo para ordenação com o Bubble sort \n",
    "lista = [6,3,12,7]"
   ]
  },
  {
   "cell_type": "code",
   "execution_count": null,
   "id": "0b224a0e",
   "metadata": {},
   "outputs": [],
   "source": [
    "# Primeira passada no algoritimo (troca elementos 6 e 3)\n",
    "lista = [ 3,6, 12,7]"
   ]
  },
  {
   "cell_type": "code",
   "execution_count": null,
   "id": "2e6770b0",
   "metadata": {},
   "outputs": [],
   "source": [
    "# Segunda passada do algoritimo ( 6 e 12, não tem troca porque ta na ordem crescente 6 menor que 12) \n",
    "lista = [ 3,   6,12,  7]"
   ]
  },
  {
   "cell_type": "code",
   "execution_count": null,
   "id": "38285af7",
   "metadata": {},
   "outputs": [],
   "source": [
    "# Terceira passada do algoritimo (7 e 12 , trocam para ficar correto)\n",
    "lista = [ 3,6,7,12]"
   ]
  }
 ],
 "metadata": {
  "kernelspec": {
   "display_name": "Python 3 (ipykernel)",
   "language": "python",
   "name": "python3"
  },
  "language_info": {
   "codemirror_mode": {
    "name": "ipython",
    "version": 3
   },
   "file_extension": ".py",
   "mimetype": "text/x-python",
   "name": "python",
   "nbconvert_exporter": "python",
   "pygments_lexer": "ipython3",
   "version": "3.11.5"
  }
 },
 "nbformat": 4,
 "nbformat_minor": 5
}
