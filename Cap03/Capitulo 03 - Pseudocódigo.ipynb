{
 "cells": [
  {
   "cell_type": "markdown",
   "id": "662f8d16",
   "metadata": {},
   "source": [
    "# Descreva um pseudocodigo para Calcular a Área de Um Paralelograma.\n"
   ]
  },
  {
   "cell_type": "markdown",
   "id": "ea96d3da",
   "metadata": {},
   "source": [
    "# print (\"BEM-VINDO AO CALCULADOR DE ÁREA DE PARALELOGRAMA\")"
   ]
  },
  {
   "cell_type": "markdown",
   "id": "c747937f",
   "metadata": {},
   "source": [
    "Para calcular a área de um paralelograma, podemos seguir os seguintes passos:\n",
    "Aqui está um exemplo de pseudocódigo que implementa esses passos:\n",
    "\n",
    "Declare comprimento, altura, area\n",
    "Obtenha comprimento do usuário\n",
    "Obtenha altura do usuário\n",
    "area <- comprimento * altura\n",
    "Imprima \"A área do paralelograma é:\" + area\n",
    "Este pseudocódigo usa palavras-chave como \"declare\" e \"obtenha\" para expressar ações específicas, e sinais matemáticos como\n",
    "\"*\" para expressar cálculos. Ele também usa a notação de atribuição \" <- \" para armazenar o resultado da área em uma variável.\n",
    "1 Declare as variáveis comprimento e altura.\n",
    "2 Peça ao usuário para fornecer os valores de comprimento e altura.\n",
    "3 Calcule a área multiplicando comprimento pela altura.\n",
    "4 Armazene o resultado na variável \"área\".\n",
    "5 Imprima o valor da variável \"área\".\n"
   ]
  },
  {
   "cell_type": "markdown",
   "id": "3071d56c",
   "metadata": {},
   "source": [
    "CONVERTER O PSEUDOCÓDIGO PARA PYTHON "
   ]
  },
  {
   "cell_type": "code",
   "execution_count": 1,
   "id": "dc759f7d",
   "metadata": {},
   "outputs": [
    {
     "name": "stdout",
     "output_type": "stream",
     "text": [
      "BEM-VINDO AO CALCULADOR DE ÁREA DE PARALELOGRAMA\n"
     ]
    }
   ],
   "source": [
    "print (\"BEM-VINDO AO CALCULADOR DE ÁREA DE PARALELOGRAMA\")"
   ]
  },
  {
   "cell_type": "markdown",
   "id": "1118d2d8",
   "metadata": {},
   "source": [
    "Declare comprimento, altura, area"
   ]
  },
  {
   "cell_type": "code",
   "execution_count": null,
   "id": "1f2967c5",
   "metadata": {},
   "outputs": [],
   "source": [
    "base = float (input (\"Insira o comprimento da base: \"))"
   ]
  },
  {
   "cell_type": "code",
   "execution_count": null,
   "id": "324fd4cc",
   "metadata": {},
   "outputs": [],
   "source": [
    "altura = float(input(\"Insira a altura: \"))"
   ]
  },
  {
   "cell_type": "code",
   "execution_count": null,
   "id": "6637a4a9",
   "metadata": {},
   "outputs": [],
   "source": [
    "area = base * altura "
   ]
  },
  {
   "cell_type": "code",
   "execution_count": null,
   "id": "e127f5c0",
   "metadata": {},
   "outputs": [],
   "source": [
    "print (\"A área do paralelograma é : \", area)"
   ]
  },
  {
   "cell_type": "markdown",
   "id": "49814266",
   "metadata": {},
   "source": [
    "# CALCULADORA SIMPLES "
   ]
  },
  {
   "cell_type": "markdown",
   "id": "1151a6c2",
   "metadata": {},
   "source": [
    "solicitar 1 numero \n",
    "solicitar outro numero \n",
    "solicitar a operação a ser realizada \n",
    "exibir na tela o resultado "
   ]
  },
  {
   "cell_type": "code",
   "execution_count": null,
   "id": "4e55f096",
   "metadata": {},
   "outputs": [],
   "source": [
    "print (\"BEM-VINDO A SUA CALCULADORA\")"
   ]
  },
  {
   "cell_type": "code",
   "execution_count": null,
   "id": "98c66d73",
   "metadata": {},
   "outputs": [],
   "source": [
    "n1 = float(input (\"Insira o primeiro número: \"))"
   ]
  },
  {
   "cell_type": "code",
   "execution_count": null,
   "id": "3551abbd",
   "metadata": {},
   "outputs": [],
   "source": [
    "n2 = float(input (\"Insira o segundo número: \"))"
   ]
  },
  {
   "cell_type": "code",
   "execution_count": null,
   "id": "5991cc05",
   "metadata": {},
   "outputs": [],
   "source": [
    "oper = input (\"Insira o tipo de cálculo: (+,-,*,/) \")"
   ]
  },
  {
   "cell_type": "code",
   "execution_count": null,
   "id": "5643077b",
   "metadata": {},
   "outputs": [],
   "source": [
    "if oper == \"+\":\n",
    "    resultado = n1+n2\n",
    "    print (\"Resultado é: \", oper)\n",
    "elif oper ==\"-\":\n",
    "    resultado = n1-n2\n",
    "    print (\"Resultado é: \", oper)\n",
    "elif oper ==\"-\":\n",
    "    resultado = n1*n2\n",
    "    print (\"Resultado é: \", oper)\n",
    "elif oper ==\"-\":\n",
    "    resultado = n1/n2\n",
    "    print (\"Resultado é: \", oper)\n",
    "else: \n",
    "    print (\"Operação inválida.\")"
   ]
  },
  {
   "cell_type": "code",
   "execution_count": null,
   "id": "923211dc",
   "metadata": {},
   "outputs": [],
   "source": []
  }
 ],
 "metadata": {
  "kernelspec": {
   "display_name": "Python 3 (ipykernel)",
   "language": "python",
   "name": "python3"
  },
  "language_info": {
   "codemirror_mode": {
    "name": "ipython",
    "version": 3
   },
   "file_extension": ".py",
   "mimetype": "text/x-python",
   "name": "python",
   "nbconvert_exporter": "python",
   "pygments_lexer": "ipython3",
   "version": "3.11.5"
  }
 },
 "nbformat": 4,
 "nbformat_minor": 5
}
