{
 "cells": [
  {
   "cell_type": "markdown",
   "id": "de96cc3c",
   "metadata": {},
   "source": [
    "# BubbleSort em PYTHON"
   ]
  },
  {
   "cell_type": "code",
   "execution_count": 2,
   "id": "e4dbece3",
   "metadata": {},
   "outputs": [],
   "source": [
    "lista = [6,8,5,13,5,7,19,1,6,3,4,9,10,12,11]"
   ]
  },
  {
   "cell_type": "code",
   "execution_count": 3,
   "id": "67f1441e",
   "metadata": {},
   "outputs": [],
   "source": [
    "#def cria uma função em py\n",
    "\n",
    "def bubble_sort (arr):\n",
    "    n = len(arr)\n",
    "    \n",
    "    #Para cada elemento i do array\n",
    "    for i in range (n):\n",
    "        \n",
    "        #Para cada elemento j do array \n",
    "        for j in range (0,n-i-1):\n",
    "            \n",
    "            #Se o elemento i for maior que o elemento j \n",
    "            if arr[j] > arr [j+1]:\n",
    "                \n",
    "                #Troque os elementos i e j \n",
    "                \n",
    "                arr [j], arr[j+1] = arr[j+1], arr[j]\n",
    "    \n",
    "    return arr \n",
    "                "
   ]
  },
  {
   "cell_type": "code",
   "execution_count": 4,
   "id": "2764a7c8",
   "metadata": {},
   "outputs": [
    {
     "name": "stdout",
     "output_type": "stream",
     "text": [
      "[1, 3, 4, 5, 5, 6, 6, 7, 8, 9, 10, 11, 12, 13, 19]\n"
     ]
    }
   ],
   "source": [
    "print (bubble_sort (lista))"
   ]
  },
  {
   "cell_type": "code",
   "execution_count": 5,
   "id": "4334531d",
   "metadata": {},
   "outputs": [],
   "source": [
    "lista2 = [6,8,5,13,5,7,1,6,3,4,9,10]"
   ]
  },
  {
   "cell_type": "code",
   "execution_count": 8,
   "id": "f4d49ac0",
   "metadata": {},
   "outputs": [
    {
     "name": "stdout",
     "output_type": "stream",
     "text": [
      "[1, 3, 4, 5, 5, 6, 6, 7, 8, 9, 10, 13]\n"
     ]
    }
   ],
   "source": [
    "print (bubble_sort (lista2))"
   ]
  },
  {
   "cell_type": "code",
   "execution_count": null,
   "id": "649d5e2b",
   "metadata": {},
   "outputs": [],
   "source": []
  }
 ],
 "metadata": {
  "kernelspec": {
   "display_name": "Python 3 (ipykernel)",
   "language": "python",
   "name": "python3"
  },
  "language_info": {
   "codemirror_mode": {
    "name": "ipython",
    "version": 3
   },
   "file_extension": ".py",
   "mimetype": "text/x-python",
   "name": "python",
   "nbconvert_exporter": "python",
   "pygments_lexer": "ipython3",
   "version": "3.11.5"
  }
 },
 "nbformat": 4,
 "nbformat_minor": 5
}
