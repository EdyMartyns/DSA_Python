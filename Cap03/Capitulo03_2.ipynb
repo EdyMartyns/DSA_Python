{
 "cells": [
  {
   "cell_type": "markdown",
   "id": "183e343b",
   "metadata": {},
   "source": [
    "CALCULADORA SIMPLES"
   ]
  },
  {
   "cell_type": "code",
   "execution_count": 1,
   "id": "a4ab8160",
   "metadata": {},
   "outputs": [
    {
     "name": "stdout",
     "output_type": "stream",
     "text": [
      "BEM-VINDO A SUA CALCULADORA\n"
     ]
    }
   ],
   "source": [
    "print (\"BEM-VINDO A SUA CALCULADORA\")"
   ]
  },
  {
   "cell_type": "code",
   "execution_count": 8,
   "id": "4713d744",
   "metadata": {},
   "outputs": [
    {
     "name": "stdout",
     "output_type": "stream",
     "text": [
      "Insira o primeiro número: 10\n"
     ]
    }
   ],
   "source": [
    "n1 = float(input (\"Insira o primeiro número: \"))"
   ]
  },
  {
   "cell_type": "code",
   "execution_count": 9,
   "id": "01b86e20",
   "metadata": {},
   "outputs": [
    {
     "name": "stdout",
     "output_type": "stream",
     "text": [
      "Insira o segundo número: 3\n"
     ]
    }
   ],
   "source": [
    "n2 = float(input (\"Insira o segundo número: \"))"
   ]
  },
  {
   "cell_type": "code",
   "execution_count": 10,
   "id": "744e28ac",
   "metadata": {},
   "outputs": [
    {
     "name": "stdout",
     "output_type": "stream",
     "text": [
      "Insira o tipo de cálculo: (+,-,*,/) +\n"
     ]
    }
   ],
   "source": [
    "oper = input (\"Insira o tipo de cálculo: (+,-,*,/) \")"
   ]
  },
  {
   "cell_type": "code",
   "execution_count": 14,
   "id": "2389e402",
   "metadata": {},
   "outputs": [
    {
     "name": "stdout",
     "output_type": "stream",
     "text": [
      "Resultado é:  13.0\n"
     ]
    }
   ],
   "source": [
    "if oper == \"+\":\n",
    "    resultado = n1 + n2\n",
    "    print (\"Resultado é: \", resultado)\n",
    "elif oper ==\"-\":\n",
    "    resultado = n1 - n2\n",
    "    print (\"Resultado é: \", resultado)\n",
    "elif oper ==\"*\":\n",
    "    resultado = n1 * n2\n",
    "    print (\"Resultado é: \", resultado)\n",
    "elif oper ==\"/\":\n",
    "    resultado = n1 / n2\n",
    "    print (\"Resultado é: \", resultado)\n",
    "else: \n",
    "    print (\"Operação inválida.\")"
   ]
  },
  {
   "cell_type": "code",
   "execution_count": 12,
   "id": "4f27f27e",
   "metadata": {},
   "outputs": [
    {
     "name": "stdout",
     "output_type": "stream",
     "text": [
      "2\n"
     ]
    }
   ],
   "source": [
    "operacao = 1+1\n",
    "print (operacao)"
   ]
  },
  {
   "cell_type": "code",
   "execution_count": null,
   "id": "cb89e544",
   "metadata": {},
   "outputs": [],
   "source": []
  }
 ],
 "metadata": {
  "kernelspec": {
   "display_name": "Python 3 (ipykernel)",
   "language": "python",
   "name": "python3"
  },
  "language_info": {
   "codemirror_mode": {
    "name": "ipython",
    "version": 3
   },
   "file_extension": ".py",
   "mimetype": "text/x-python",
   "name": "python",
   "nbconvert_exporter": "python",
   "pygments_lexer": "ipython3",
   "version": "3.11.5"
  }
 },
 "nbformat": 4,
 "nbformat_minor": 5
}
